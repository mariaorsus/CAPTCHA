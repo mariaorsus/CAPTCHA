{
  "nbformat": 4,
  "nbformat_minor": 0,
  "metadata": {
    "colab": {
      "name": "Учебное соревнование 1.ipynb",
      "provenance": [],
      "authorship_tag": "ABX9TyMojJuX9xS0cs25idKIlyCN"
    },
    "kernelspec": {
      "name": "python3",
      "display_name": "Python 3"
    },
    "language_info": {
      "name": "python"
    }
  },
  "cells": [
    {
      "cell_type": "code",
      "metadata": {
        "colab": {
          "base_uri": "https://localhost:8080/"
        },
        "id": "q8Oxheg7sic1",
        "outputId": "cf2c3e25-0e5b-4926-b143-b81f926f49df"
      },
      "source": [
        "from __future__ import absolute_import, division, print_function\n",
        "\n",
        "# TensorFlow and tf.keras\n",
        "import tensorflow as tf\n",
        "from tensorflow import keras\n",
        "\n",
        "# Helper libraries\n",
        "import numpy as np\n",
        "import matplotlib.pyplot as plt\n",
        "\n",
        "print(tf.__version__)"
      ],
      "execution_count": null,
      "outputs": [
        {
          "output_type": "stream",
          "text": [
            "2.4.1\n"
          ],
          "name": "stdout"
        }
      ]
    },
    {
      "cell_type": "code",
      "metadata": {
        "id": "R0jPw3rjvibk"
      },
      "source": [
        "import pandas as pd\n",
        "import numpy as np\n",
        "from sklearn.neural_network import MLPClassifier\n",
        "from sklearn.metrics import accuracy_score"
      ],
      "execution_count": null,
      "outputs": []
    },
    {
      "cell_type": "code",
      "metadata": {
        "id": "M6_WlINyskRB"
      },
      "source": [
        "train_raw = pd.read_csv('drive/MyDrive/fmnist_train.csv', sep=\",\")\n",
        "test_raw= pd.read_csv('drive/MyDrive/fmnist_test.csv', sep=',')"
      ],
      "execution_count": null,
      "outputs": []
    },
    {
      "cell_type": "code",
      "metadata": {
        "colab": {
          "base_uri": "https://localhost:8080/"
        },
        "id": "oXrtBX6c02kL",
        "outputId": "4abef15b-f441-4eaf-ce94-e8d03eed32a0"
      },
      "source": [
        "train_raw.shape"
      ],
      "execution_count": null,
      "outputs": [
        {
          "output_type": "execute_result",
          "data": {
            "text/plain": [
              "(17040, 786)"
            ]
          },
          "metadata": {
            "tags": []
          },
          "execution_count": 24
        }
      ]
    },
    {
      "cell_type": "code",
      "metadata": {
        "id": "4PUMnGto1A_z"
      },
      "source": [
        "test_raw = test_raw.dropna(axis=0)"
      ],
      "execution_count": null,
      "outputs": []
    },
    {
      "cell_type": "code",
      "metadata": {
        "id": "P9iOZjaV1CvB"
      },
      "source": [
        "train_raw = train_raw.dropna(axis=0)"
      ],
      "execution_count": null,
      "outputs": []
    },
    {
      "cell_type": "code",
      "metadata": {
        "colab": {
          "base_uri": "https://localhost:8080/"
        },
        "id": "0i4-9SjZ1EXx",
        "outputId": "f120c0a8-ae3f-4525-c01e-23aefb3b18cf"
      },
      "source": [
        "train_raw.shape"
      ],
      "execution_count": null,
      "outputs": [
        {
          "output_type": "execute_result",
          "data": {
            "text/plain": [
              "(17039, 786)"
            ]
          },
          "metadata": {
            "tags": []
          },
          "execution_count": 27
        }
      ]
    },
    {
      "cell_type": "code",
      "metadata": {
        "colab": {
          "base_uri": "https://localhost:8080/"
        },
        "id": "vY2P3bzZ1F2M",
        "outputId": "c736798d-4a6a-4d1e-83d6-a6fa56af3fdd"
      },
      "source": [
        "train_raw.isna().sum().sum()"
      ],
      "execution_count": null,
      "outputs": [
        {
          "output_type": "execute_result",
          "data": {
            "text/plain": [
              "0"
            ]
          },
          "metadata": {
            "tags": []
          },
          "execution_count": 28
        }
      ]
    },
    {
      "cell_type": "code",
      "metadata": {
        "colab": {
          "base_uri": "https://localhost:8080/",
          "height": 244
        },
        "id": "51sQOAeq1JZz",
        "outputId": "a1173e67-cdc4-4ece-8f74-6496edde8d8c"
      },
      "source": [
        "train_raw.head()"
      ],
      "execution_count": null,
      "outputs": [
        {
          "output_type": "execute_result",
          "data": {
            "text/html": [
              "<div>\n",
              "<style scoped>\n",
              "    .dataframe tbody tr th:only-of-type {\n",
              "        vertical-align: middle;\n",
              "    }\n",
              "\n",
              "    .dataframe tbody tr th {\n",
              "        vertical-align: top;\n",
              "    }\n",
              "\n",
              "    .dataframe thead th {\n",
              "        text-align: right;\n",
              "    }\n",
              "</style>\n",
              "<table border=\"1\" class=\"dataframe\">\n",
              "  <thead>\n",
              "    <tr style=\"text-align: right;\">\n",
              "      <th></th>\n",
              "      <th>label</th>\n",
              "      <th>pixel1</th>\n",
              "      <th>pixel2</th>\n",
              "      <th>pixel3</th>\n",
              "      <th>pixel4</th>\n",
              "      <th>pixel5</th>\n",
              "      <th>pixel6</th>\n",
              "      <th>pixel7</th>\n",
              "      <th>pixel8</th>\n",
              "      <th>pixel9</th>\n",
              "      <th>pixel10</th>\n",
              "      <th>pixel11</th>\n",
              "      <th>pixel12</th>\n",
              "      <th>pixel13</th>\n",
              "      <th>pixel14</th>\n",
              "      <th>pixel15</th>\n",
              "      <th>pixel16</th>\n",
              "      <th>pixel17</th>\n",
              "      <th>pixel18</th>\n",
              "      <th>pixel19</th>\n",
              "      <th>pixel20</th>\n",
              "      <th>pixel21</th>\n",
              "      <th>pixel22</th>\n",
              "      <th>pixel23</th>\n",
              "      <th>pixel24</th>\n",
              "      <th>pixel25</th>\n",
              "      <th>pixel26</th>\n",
              "      <th>pixel27</th>\n",
              "      <th>pixel28</th>\n",
              "      <th>pixel29</th>\n",
              "      <th>pixel30</th>\n",
              "      <th>pixel31</th>\n",
              "      <th>pixel32</th>\n",
              "      <th>pixel33</th>\n",
              "      <th>pixel34</th>\n",
              "      <th>pixel35</th>\n",
              "      <th>pixel36</th>\n",
              "      <th>pixel37</th>\n",
              "      <th>pixel38</th>\n",
              "      <th>pixel39</th>\n",
              "      <th>...</th>\n",
              "      <th>pixel746</th>\n",
              "      <th>pixel747</th>\n",
              "      <th>pixel748</th>\n",
              "      <th>pixel749</th>\n",
              "      <th>pixel750</th>\n",
              "      <th>pixel751</th>\n",
              "      <th>pixel752</th>\n",
              "      <th>pixel753</th>\n",
              "      <th>pixel754</th>\n",
              "      <th>pixel755</th>\n",
              "      <th>pixel756</th>\n",
              "      <th>pixel757</th>\n",
              "      <th>pixel758</th>\n",
              "      <th>pixel759</th>\n",
              "      <th>pixel760</th>\n",
              "      <th>pixel761</th>\n",
              "      <th>pixel762</th>\n",
              "      <th>pixel763</th>\n",
              "      <th>pixel764</th>\n",
              "      <th>pixel765</th>\n",
              "      <th>pixel766</th>\n",
              "      <th>pixel767</th>\n",
              "      <th>pixel768</th>\n",
              "      <th>pixel769</th>\n",
              "      <th>pixel770</th>\n",
              "      <th>pixel771</th>\n",
              "      <th>pixel772</th>\n",
              "      <th>pixel773</th>\n",
              "      <th>pixel774</th>\n",
              "      <th>pixel775</th>\n",
              "      <th>pixel776</th>\n",
              "      <th>pixel777</th>\n",
              "      <th>pixel778</th>\n",
              "      <th>pixel779</th>\n",
              "      <th>pixel780</th>\n",
              "      <th>pixel781</th>\n",
              "      <th>pixel782</th>\n",
              "      <th>pixel783</th>\n",
              "      <th>pixel784</th>\n",
              "      <th>Id</th>\n",
              "    </tr>\n",
              "  </thead>\n",
              "  <tbody>\n",
              "    <tr>\n",
              "      <th>0</th>\n",
              "      <td>2</td>\n",
              "      <td>0</td>\n",
              "      <td>0</td>\n",
              "      <td>0</td>\n",
              "      <td>0</td>\n",
              "      <td>0</td>\n",
              "      <td>0</td>\n",
              "      <td>0</td>\n",
              "      <td>0</td>\n",
              "      <td>0</td>\n",
              "      <td>0</td>\n",
              "      <td>0</td>\n",
              "      <td>0</td>\n",
              "      <td>0</td>\n",
              "      <td>0</td>\n",
              "      <td>0</td>\n",
              "      <td>0</td>\n",
              "      <td>0</td>\n",
              "      <td>0</td>\n",
              "      <td>0</td>\n",
              "      <td>0</td>\n",
              "      <td>0</td>\n",
              "      <td>0</td>\n",
              "      <td>0</td>\n",
              "      <td>0</td>\n",
              "      <td>0</td>\n",
              "      <td>0</td>\n",
              "      <td>0</td>\n",
              "      <td>0</td>\n",
              "      <td>0</td>\n",
              "      <td>0</td>\n",
              "      <td>0</td>\n",
              "      <td>0</td>\n",
              "      <td>0</td>\n",
              "      <td>0</td>\n",
              "      <td>0</td>\n",
              "      <td>0</td>\n",
              "      <td>0</td>\n",
              "      <td>0</td>\n",
              "      <td>0</td>\n",
              "      <td>...</td>\n",
              "      <td>0.0</td>\n",
              "      <td>0.0</td>\n",
              "      <td>0.0</td>\n",
              "      <td>0.0</td>\n",
              "      <td>0.0</td>\n",
              "      <td>0.0</td>\n",
              "      <td>0.0</td>\n",
              "      <td>0.0</td>\n",
              "      <td>0.0</td>\n",
              "      <td>0.0</td>\n",
              "      <td>0.0</td>\n",
              "      <td>0.0</td>\n",
              "      <td>0.0</td>\n",
              "      <td>0.0</td>\n",
              "      <td>0.0</td>\n",
              "      <td>0.0</td>\n",
              "      <td>0.0</td>\n",
              "      <td>0.0</td>\n",
              "      <td>0.0</td>\n",
              "      <td>0.0</td>\n",
              "      <td>0.0</td>\n",
              "      <td>0.0</td>\n",
              "      <td>0.0</td>\n",
              "      <td>0.0</td>\n",
              "      <td>0.0</td>\n",
              "      <td>0.0</td>\n",
              "      <td>0.0</td>\n",
              "      <td>0.0</td>\n",
              "      <td>0.0</td>\n",
              "      <td>0.0</td>\n",
              "      <td>0.0</td>\n",
              "      <td>0.0</td>\n",
              "      <td>0.0</td>\n",
              "      <td>0.0</td>\n",
              "      <td>0.0</td>\n",
              "      <td>0.0</td>\n",
              "      <td>0.0</td>\n",
              "      <td>0.0</td>\n",
              "      <td>0.0</td>\n",
              "      <td>0</td>\n",
              "    </tr>\n",
              "    <tr>\n",
              "      <th>1</th>\n",
              "      <td>9</td>\n",
              "      <td>0</td>\n",
              "      <td>0</td>\n",
              "      <td>0</td>\n",
              "      <td>0</td>\n",
              "      <td>0</td>\n",
              "      <td>0</td>\n",
              "      <td>0</td>\n",
              "      <td>0</td>\n",
              "      <td>0</td>\n",
              "      <td>0</td>\n",
              "      <td>0</td>\n",
              "      <td>0</td>\n",
              "      <td>0</td>\n",
              "      <td>0</td>\n",
              "      <td>0</td>\n",
              "      <td>0</td>\n",
              "      <td>0</td>\n",
              "      <td>0</td>\n",
              "      <td>0</td>\n",
              "      <td>0</td>\n",
              "      <td>0</td>\n",
              "      <td>0</td>\n",
              "      <td>0</td>\n",
              "      <td>0</td>\n",
              "      <td>0</td>\n",
              "      <td>0</td>\n",
              "      <td>0</td>\n",
              "      <td>0</td>\n",
              "      <td>0</td>\n",
              "      <td>0</td>\n",
              "      <td>0</td>\n",
              "      <td>0</td>\n",
              "      <td>0</td>\n",
              "      <td>0</td>\n",
              "      <td>0</td>\n",
              "      <td>0</td>\n",
              "      <td>0</td>\n",
              "      <td>0</td>\n",
              "      <td>0</td>\n",
              "      <td>...</td>\n",
              "      <td>0.0</td>\n",
              "      <td>0.0</td>\n",
              "      <td>0.0</td>\n",
              "      <td>0.0</td>\n",
              "      <td>0.0</td>\n",
              "      <td>0.0</td>\n",
              "      <td>0.0</td>\n",
              "      <td>0.0</td>\n",
              "      <td>0.0</td>\n",
              "      <td>0.0</td>\n",
              "      <td>0.0</td>\n",
              "      <td>0.0</td>\n",
              "      <td>0.0</td>\n",
              "      <td>0.0</td>\n",
              "      <td>0.0</td>\n",
              "      <td>0.0</td>\n",
              "      <td>0.0</td>\n",
              "      <td>0.0</td>\n",
              "      <td>0.0</td>\n",
              "      <td>0.0</td>\n",
              "      <td>0.0</td>\n",
              "      <td>0.0</td>\n",
              "      <td>0.0</td>\n",
              "      <td>0.0</td>\n",
              "      <td>0.0</td>\n",
              "      <td>0.0</td>\n",
              "      <td>0.0</td>\n",
              "      <td>0.0</td>\n",
              "      <td>0.0</td>\n",
              "      <td>0.0</td>\n",
              "      <td>0.0</td>\n",
              "      <td>0.0</td>\n",
              "      <td>0.0</td>\n",
              "      <td>0.0</td>\n",
              "      <td>0.0</td>\n",
              "      <td>0.0</td>\n",
              "      <td>0.0</td>\n",
              "      <td>0.0</td>\n",
              "      <td>0.0</td>\n",
              "      <td>1</td>\n",
              "    </tr>\n",
              "    <tr>\n",
              "      <th>2</th>\n",
              "      <td>6</td>\n",
              "      <td>0</td>\n",
              "      <td>0</td>\n",
              "      <td>0</td>\n",
              "      <td>0</td>\n",
              "      <td>0</td>\n",
              "      <td>0</td>\n",
              "      <td>0</td>\n",
              "      <td>5</td>\n",
              "      <td>0</td>\n",
              "      <td>0</td>\n",
              "      <td>0</td>\n",
              "      <td>105</td>\n",
              "      <td>92</td>\n",
              "      <td>101</td>\n",
              "      <td>107</td>\n",
              "      <td>100</td>\n",
              "      <td>132</td>\n",
              "      <td>0</td>\n",
              "      <td>0</td>\n",
              "      <td>2</td>\n",
              "      <td>4</td>\n",
              "      <td>0</td>\n",
              "      <td>1</td>\n",
              "      <td>0</td>\n",
              "      <td>0</td>\n",
              "      <td>0</td>\n",
              "      <td>0</td>\n",
              "      <td>0</td>\n",
              "      <td>0</td>\n",
              "      <td>0</td>\n",
              "      <td>0</td>\n",
              "      <td>0</td>\n",
              "      <td>0</td>\n",
              "      <td>0</td>\n",
              "      <td>0</td>\n",
              "      <td>0</td>\n",
              "      <td>0</td>\n",
              "      <td>0</td>\n",
              "      <td>150</td>\n",
              "      <td>...</td>\n",
              "      <td>220.0</td>\n",
              "      <td>214.0</td>\n",
              "      <td>74.0</td>\n",
              "      <td>0.0</td>\n",
              "      <td>255.0</td>\n",
              "      <td>222.0</td>\n",
              "      <td>128.0</td>\n",
              "      <td>0.0</td>\n",
              "      <td>0.0</td>\n",
              "      <td>0.0</td>\n",
              "      <td>0.0</td>\n",
              "      <td>0.0</td>\n",
              "      <td>0.0</td>\n",
              "      <td>0.0</td>\n",
              "      <td>0.0</td>\n",
              "      <td>0.0</td>\n",
              "      <td>44.0</td>\n",
              "      <td>12.0</td>\n",
              "      <td>0.0</td>\n",
              "      <td>0.0</td>\n",
              "      <td>40.0</td>\n",
              "      <td>134.0</td>\n",
              "      <td>162.0</td>\n",
              "      <td>191.0</td>\n",
              "      <td>214.0</td>\n",
              "      <td>163.0</td>\n",
              "      <td>146.0</td>\n",
              "      <td>165.0</td>\n",
              "      <td>79.0</td>\n",
              "      <td>0.0</td>\n",
              "      <td>0.0</td>\n",
              "      <td>0.0</td>\n",
              "      <td>30.0</td>\n",
              "      <td>43.0</td>\n",
              "      <td>0.0</td>\n",
              "      <td>0.0</td>\n",
              "      <td>0.0</td>\n",
              "      <td>0.0</td>\n",
              "      <td>0.0</td>\n",
              "      <td>2</td>\n",
              "    </tr>\n",
              "    <tr>\n",
              "      <th>3</th>\n",
              "      <td>0</td>\n",
              "      <td>0</td>\n",
              "      <td>0</td>\n",
              "      <td>0</td>\n",
              "      <td>1</td>\n",
              "      <td>2</td>\n",
              "      <td>0</td>\n",
              "      <td>0</td>\n",
              "      <td>0</td>\n",
              "      <td>0</td>\n",
              "      <td>0</td>\n",
              "      <td>114</td>\n",
              "      <td>183</td>\n",
              "      <td>112</td>\n",
              "      <td>55</td>\n",
              "      <td>23</td>\n",
              "      <td>72</td>\n",
              "      <td>102</td>\n",
              "      <td>165</td>\n",
              "      <td>160</td>\n",
              "      <td>28</td>\n",
              "      <td>0</td>\n",
              "      <td>0</td>\n",
              "      <td>0</td>\n",
              "      <td>1</td>\n",
              "      <td>0</td>\n",
              "      <td>0</td>\n",
              "      <td>0</td>\n",
              "      <td>0</td>\n",
              "      <td>0</td>\n",
              "      <td>0</td>\n",
              "      <td>0</td>\n",
              "      <td>0</td>\n",
              "      <td>1</td>\n",
              "      <td>0</td>\n",
              "      <td>0</td>\n",
              "      <td>24</td>\n",
              "      <td>188</td>\n",
              "      <td>163</td>\n",
              "      <td>93</td>\n",
              "      <td>...</td>\n",
              "      <td>249.0</td>\n",
              "      <td>207.0</td>\n",
              "      <td>197.0</td>\n",
              "      <td>202.0</td>\n",
              "      <td>45.0</td>\n",
              "      <td>0.0</td>\n",
              "      <td>3.0</td>\n",
              "      <td>0.0</td>\n",
              "      <td>0.0</td>\n",
              "      <td>0.0</td>\n",
              "      <td>0.0</td>\n",
              "      <td>0.0</td>\n",
              "      <td>0.0</td>\n",
              "      <td>0.0</td>\n",
              "      <td>0.0</td>\n",
              "      <td>0.0</td>\n",
              "      <td>0.0</td>\n",
              "      <td>1.0</td>\n",
              "      <td>0.0</td>\n",
              "      <td>0.0</td>\n",
              "      <td>0.0</td>\n",
              "      <td>22.0</td>\n",
              "      <td>21.0</td>\n",
              "      <td>25.0</td>\n",
              "      <td>69.0</td>\n",
              "      <td>52.0</td>\n",
              "      <td>45.0</td>\n",
              "      <td>74.0</td>\n",
              "      <td>39.0</td>\n",
              "      <td>3.0</td>\n",
              "      <td>0.0</td>\n",
              "      <td>0.0</td>\n",
              "      <td>0.0</td>\n",
              "      <td>0.0</td>\n",
              "      <td>1.0</td>\n",
              "      <td>0.0</td>\n",
              "      <td>0.0</td>\n",
              "      <td>0.0</td>\n",
              "      <td>0.0</td>\n",
              "      <td>3</td>\n",
              "    </tr>\n",
              "    <tr>\n",
              "      <th>4</th>\n",
              "      <td>3</td>\n",
              "      <td>0</td>\n",
              "      <td>0</td>\n",
              "      <td>0</td>\n",
              "      <td>0</td>\n",
              "      <td>0</td>\n",
              "      <td>0</td>\n",
              "      <td>0</td>\n",
              "      <td>0</td>\n",
              "      <td>0</td>\n",
              "      <td>0</td>\n",
              "      <td>0</td>\n",
              "      <td>0</td>\n",
              "      <td>46</td>\n",
              "      <td>0</td>\n",
              "      <td>21</td>\n",
              "      <td>68</td>\n",
              "      <td>0</td>\n",
              "      <td>0</td>\n",
              "      <td>0</td>\n",
              "      <td>0</td>\n",
              "      <td>0</td>\n",
              "      <td>0</td>\n",
              "      <td>0</td>\n",
              "      <td>0</td>\n",
              "      <td>0</td>\n",
              "      <td>0</td>\n",
              "      <td>0</td>\n",
              "      <td>0</td>\n",
              "      <td>0</td>\n",
              "      <td>0</td>\n",
              "      <td>0</td>\n",
              "      <td>0</td>\n",
              "      <td>0</td>\n",
              "      <td>0</td>\n",
              "      <td>0</td>\n",
              "      <td>0</td>\n",
              "      <td>25</td>\n",
              "      <td>187</td>\n",
              "      <td>189</td>\n",
              "      <td>...</td>\n",
              "      <td>237.0</td>\n",
              "      <td>229.0</td>\n",
              "      <td>0.0</td>\n",
              "      <td>0.0</td>\n",
              "      <td>1.0</td>\n",
              "      <td>0.0</td>\n",
              "      <td>0.0</td>\n",
              "      <td>0.0</td>\n",
              "      <td>0.0</td>\n",
              "      <td>0.0</td>\n",
              "      <td>0.0</td>\n",
              "      <td>0.0</td>\n",
              "      <td>0.0</td>\n",
              "      <td>0.0</td>\n",
              "      <td>0.0</td>\n",
              "      <td>0.0</td>\n",
              "      <td>0.0</td>\n",
              "      <td>0.0</td>\n",
              "      <td>0.0</td>\n",
              "      <td>0.0</td>\n",
              "      <td>68.0</td>\n",
              "      <td>116.0</td>\n",
              "      <td>112.0</td>\n",
              "      <td>136.0</td>\n",
              "      <td>147.0</td>\n",
              "      <td>144.0</td>\n",
              "      <td>121.0</td>\n",
              "      <td>102.0</td>\n",
              "      <td>63.0</td>\n",
              "      <td>0.0</td>\n",
              "      <td>0.0</td>\n",
              "      <td>0.0</td>\n",
              "      <td>0.0</td>\n",
              "      <td>0.0</td>\n",
              "      <td>0.0</td>\n",
              "      <td>0.0</td>\n",
              "      <td>0.0</td>\n",
              "      <td>0.0</td>\n",
              "      <td>0.0</td>\n",
              "      <td>4</td>\n",
              "    </tr>\n",
              "  </tbody>\n",
              "</table>\n",
              "<p>5 rows × 786 columns</p>\n",
              "</div>"
            ],
            "text/plain": [
              "   label  pixel1  pixel2  pixel3  ...  pixel782  pixel783  pixel784  Id\n",
              "0      2       0       0       0  ...       0.0       0.0       0.0   0\n",
              "1      9       0       0       0  ...       0.0       0.0       0.0   1\n",
              "2      6       0       0       0  ...       0.0       0.0       0.0   2\n",
              "3      0       0       0       0  ...       0.0       0.0       0.0   3\n",
              "4      3       0       0       0  ...       0.0       0.0       0.0   4\n",
              "\n",
              "[5 rows x 786 columns]"
            ]
          },
          "metadata": {
            "tags": []
          },
          "execution_count": 29
        }
      ]
    },
    {
      "cell_type": "code",
      "metadata": {
        "id": "lwovYo7H1MHW"
      },
      "source": [
        "test_id = test_raw['Id'] # Выделил id из теста\n",
        "x_test = test_raw.drop('Id', axis=1).values # Получаем матрицу для теста\n",
        "x_test = x_test.reshape(-1, 28, 28)"
      ],
      "execution_count": null,
      "outputs": []
    },
    {
      "cell_type": "code",
      "metadata": {
        "id": "dO5RrYmh1PbU"
      },
      "source": [
        "Y = train_raw['label'].values # вектор правильных ответов\n",
        "X = train_raw.drop(['Id', 'label'], axis=1).values.reshape(-1,28,28)  # -1 Оставляем ту же размерность и решейпим 28 на 28 чтобы была возможность отобразить изображение"
      ],
      "execution_count": null,
      "outputs": []
    },
    {
      "cell_type": "code",
      "metadata": {
        "colab": {
          "base_uri": "https://localhost:8080/"
        },
        "id": "Ij3fCTv61uuz",
        "outputId": "05f50be2-c1cb-45fc-dc31-6d85f36512a2"
      },
      "source": [
        "import tensorflow as tf\n",
        "import tensorflow.keras as keras\n",
        "import tensorflow.keras.models as M\n",
        "import tensorflow.keras.layers as L\n",
        "import tensorflow.keras.backend as K\n",
        "import numpy as np\n",
        "%matplotlib inline\n",
        "import matplotlib.pyplot as plt\n",
        "print(tf.__version__)\n",
        "print(keras.__version__)\n",
        "import pandas as pd"
      ],
      "execution_count": null,
      "outputs": [
        {
          "output_type": "stream",
          "text": [
            "2.4.1\n",
            "2.4.0\n"
          ],
          "name": "stdout"
        }
      ]
    },
    {
      "cell_type": "code",
      "metadata": {
        "id": "d33KsfXc12T7"
      },
      "source": [
        "from sklearn.model_selection import train_test_split"
      ],
      "execution_count": null,
      "outputs": []
    },
    {
      "cell_type": "code",
      "metadata": {
        "id": "v68rQ8JG1SON"
      },
      "source": [
        "x_train , x_val , y_train , y_val = train_test_split(X,Y,test_size=0.3,random_state=42)"
      ],
      "execution_count": null,
      "outputs": []
    },
    {
      "cell_type": "code",
      "metadata": {
        "colab": {
          "base_uri": "https://localhost:8080/"
        },
        "id": "1zJn2LWM1VQy",
        "outputId": "03bbd42a-439c-4b05-adc8-bd22ef3840ab"
      },
      "source": [
        "print('Train shape: {}'.format(x_train.shape))\n",
        "print('Val shape: {}'.format(x_val.shape))\n",
        "print('Test shape: {}'.format(x_test.shape))"
      ],
      "execution_count": null,
      "outputs": [
        {
          "output_type": "stream",
          "text": [
            "Train shape: (11927, 28, 28)\n",
            "Val shape: (5112, 28, 28)\n",
            "Test shape: (10000, 28, 28)\n"
          ],
          "name": "stdout"
        }
      ]
    },
    {
      "cell_type": "code",
      "metadata": {
        "colab": {
          "base_uri": "https://localhost:8080/",
          "height": 255
        },
        "id": "Pjo6wPdC2hDq",
        "outputId": "18bfea83-2ccc-4d03-80c8-38df3f7ec45e"
      },
      "source": [
        "cols = 8\n",
        "rows = 2\n",
        "fig = plt.figure(figsize=(2 * cols - 1, 2.5 * rows - 1))\n",
        "for i in range(cols):\n",
        "    for j in range(rows):\n",
        "        random_index = np.random.randint(0, len(y_train))\n",
        "        ax = fig.add_subplot(rows, cols, i * rows + j + 1)\n",
        "        ax.grid('off')\n",
        "        ax.axis('off')\n",
        "        ax.imshow(x_train[random_index, :], cmap='gray')\n",
        "        ax.set_title(y_train[random_index])\n",
        "plt.show()\n"
      ],
      "execution_count": null,
      "outputs": [
        {
          "output_type": "display_data",
          "data": {
            "image/png": "[encoded data removed]",
            "text/plain": [
              "<Figure size 1080x288 with 16 Axes>"
            ]
          },
          "metadata": {
            "tags": [],
            "needs_background": "light"
          }
        }
      ]
    },
    {
      "cell_type": "code",
      "metadata": {
        "id": "bExXzE9o2jt8"
      },
      "source": [
        "x_train_std = x_train.astype('float64') / 255.0 - 0.5 #стандартизируем для облегчения обучения\n",
        "x_val_std = x_val.astype('float64') / 255.0 - 0.5\n",
        "x_test_std = x_test.astype('float64')/ 255.0 -0.5"
      ],
      "execution_count": null,
      "outputs": []
    },
    {
      "cell_type": "code",
      "metadata": {
        "colab": {
          "base_uri": "https://localhost:8080/"
        },
        "id": "rIs4_H4b2mxk",
        "outputId": "b0b2b254-4386-4c0a-f0b0-4863d2abfece"
      },
      "source": [
        "x_train_std.shape"
      ],
      "execution_count": null,
      "outputs": [
        {
          "output_type": "execute_result",
          "data": {
            "text/plain": [
              "(11927, 28, 28)"
            ]
          },
          "metadata": {
            "tags": []
          },
          "execution_count": 42
        }
      ]
    },
    {
      "cell_type": "code",
      "metadata": {
        "colab": {
          "base_uri": "https://localhost:8080/"
        },
        "id": "_1D9yTJ-2pLO",
        "outputId": "02dc6b01-a037-49ef-c94e-8fe0add543e0"
      },
      "source": [
        "x_test_std.shape"
      ],
      "execution_count": null,
      "outputs": [
        {
          "output_type": "execute_result",
          "data": {
            "text/plain": [
              "(10000, 28, 28)"
            ]
          },
          "metadata": {
            "tags": []
          },
          "execution_count": 43
        }
      ]
    },
    {
      "cell_type": "code",
      "metadata": {
        "colab": {
          "base_uri": "https://localhost:8080/"
        },
        "id": "TLJ14F3m2rPe",
        "outputId": "9de0021b-192f-4ee4-cbc8-0a057f1e4e23"
      },
      "source": [
        "print(x_train_std.mean())\n",
        "print(x_train_std.std())"
      ],
      "execution_count": null,
      "outputs": [
        {
          "output_type": "stream",
          "text": [
            "-0.21567014329836898\n",
            "0.3514110983033753\n"
          ],
          "name": "stdout"
        }
      ]
    },
    {
      "cell_type": "code",
      "metadata": {
        "id": "VA0CINAg2t-l"
      },
      "source": [
        "#растягиваем матрицу изображения в вектор, так как посвязные слои умеют работать умеют работать только с векторам\n",
        "x_train_flat = x_train_std.reshape(-1, 784)\n",
        "x_val_flat = x_val_std.reshape(-1, 784)\n",
        "x_test_flat = x_test_std.reshape(-1, 784)"
      ],
      "execution_count": null,
      "outputs": []
    },
    {
      "cell_type": "code",
      "metadata": {
        "colab": {
          "base_uri": "https://localhost:8080/"
        },
        "id": "TKvwMbNV2ySv",
        "outputId": "d8f83ed7-005e-4dc5-8bbd-f839db197c9c"
      },
      "source": [
        "print('Flatten train shape: ', x_train_flat.shape)\n",
        "print('Flatten val shape: ', x_val_flat.shape)\n",
        "print('Flatten test shape: ', x_val_flat.shape)"
      ],
      "execution_count": null,
      "outputs": [
        {
          "output_type": "stream",
          "text": [
            "Flatten train shape:  (11927, 784)\n",
            "Flatten val shape:  (5112, 784)\n",
            "Flatten test shape:  (5112, 784)\n"
          ],
          "name": "stdout"
        }
      ]
    },
    {
      "cell_type": "code",
      "metadata": {
        "id": "LhmvmcP2204h"
      },
      "source": [
        "y_train_ohe = keras.utils.to_categorical(y_train, 10)#10 - количество классов len(set(y_train))\n",
        "y_val_ohe = keras.utils.to_categorical(y_val, 10)"
      ],
      "execution_count": null,
      "outputs": []
    },
    {
      "cell_type": "code",
      "metadata": {
        "colab": {
          "base_uri": "https://localhost:8080/"
        },
        "id": "lDMPQO6x24xI",
        "outputId": "f87d1223-07cf-44fd-f359-3c303a8faf87"
      },
      "source": [
        "y_train_ohe.shape"
      ],
      "execution_count": null,
      "outputs": [
        {
          "output_type": "execute_result",
          "data": {
            "text/plain": [
              "(11927, 10)"
            ]
          },
          "metadata": {
            "tags": []
          },
          "execution_count": 48
        }
      ]
    },
    {
      "cell_type": "code",
      "metadata": {
        "id": "5igFrg3Y27ED"
      },
      "source": [
        "x_train2 = x_train_std[:,:,:,np.newaxis] # Для кераса требуеся дополнительный канал\n",
        "x_val2 = x_val_std[:,:,:,np.newaxis]\n",
        "x_test2 = x_test_std[:,:,:,np.newaxis]"
      ],
      "execution_count": null,
      "outputs": []
    },
    {
      "cell_type": "code",
      "metadata": {
        "colab": {
          "base_uri": "https://localhost:8080/"
        },
        "id": "gLJF3nec29Ti",
        "outputId": "fa433236-2a69-4fc1-9c20-bafb9d2043d2"
      },
      "source": [
        "x_train2.shape"
      ],
      "execution_count": null,
      "outputs": [
        {
          "output_type": "execute_result",
          "data": {
            "text/plain": [
              "(11927, 28, 28, 1)"
            ]
          },
          "metadata": {
            "tags": []
          },
          "execution_count": 50
        }
      ]
    },
    {
      "cell_type": "code",
      "metadata": {
        "colab": {
          "base_uri": "https://localhost:8080/"
        },
        "id": "QJnVpH-m2_Wo",
        "outputId": "8ccebfd7-b615-4b86-b3ee-da0960eb27af"
      },
      "source": [
        "x_val2.shape"
      ],
      "execution_count": null,
      "outputs": [
        {
          "output_type": "execute_result",
          "data": {
            "text/plain": [
              "(5112, 28, 28, 1)"
            ]
          },
          "metadata": {
            "tags": []
          },
          "execution_count": 51
        }
      ]
    },
    {
      "cell_type": "code",
      "metadata": {
        "colab": {
          "base_uri": "https://localhost:8080/"
        },
        "id": "zp50scmb3BbT",
        "outputId": "14ef9810-3f2e-4357-b864-2327e13ee256"
      },
      "source": [
        "model = M.Sequential()#создаем модель, к которой будет добавлять слои\n",
        "model.add(L.Input(shape=(28,28, 1)))#организуем входной слой размерностью равной размерности вектора признаков\n",
        "model.add(L.Conv2D(filters=16, kernel_size=3, activation='relu', padding='same'))\n",
        "model.add(L.Conv2D(filters=32, kernel_size=3, activation='relu', padding='same'))\n",
        "model.add(L.MaxPooling2D())\n",
        "model.add(L.Dropout(0.4))\n",
        "model.add(L.Conv2D(filters=64, kernel_size=3, activation='relu', padding='same'))\n",
        "model.add(L.Conv2D(filters=128, kernel_size=3, activation='relu', padding='same')) # Непосредственно свертка\n",
        "model.add(L.MaxPooling2D()) # Удалим незначительные детали\n",
        "model.add(L.Flatten()) # Вытянем в вектор\n",
        "initializer = tf.keras.initializers.GlorotUniform() # Ициализатор весов\n",
        "model.add(L.Dense(128, activation='tanh', kernel_initializer=initializer)) #Добавляем первый полносвязный слой\n",
        "model.add(L.Dropout(0.5))#Слой отключение - добавляется для избежания переобучения\n",
        "initializer = tf.keras.initializers.GlorotUniform()\n",
        "model.add(L.Dense(64, activation='relu', kernel_initializer=initializer))#Добавляем второй полносвязный слой\n",
        "model.add(L.Dropout(0.5))\n",
        "model.add(L.Dense(10, activation='softmax')) # приводим слои к 10 выходам\n",
        "model.summary()"
      ],
      "execution_count": null,
      "outputs": [
        {
          "output_type": "stream",
          "text": [
            "Model: \"sequential_1\"\n",
            "_________________________________________________________________\n",
            "Layer (type)                 Output Shape              Param #   \n",
            "=================================================================\n",
            "conv2d (Conv2D)              (None, 28, 28, 16)        160       \n",
            "_________________________________________________________________\n",
            "conv2d_1 (Conv2D)            (None, 28, 28, 32)        4640      \n",
            "_________________________________________________________________\n",
            "max_pooling2d (MaxPooling2D) (None, 14, 14, 32)        0         \n",
            "_________________________________________________________________\n",
            "dropout (Dropout)            (None, 14, 14, 32)        0         \n",
            "_________________________________________________________________\n",
            "conv2d_2 (Conv2D)            (None, 14, 14, 64)        18496     \n",
            "_________________________________________________________________\n",
            "conv2d_3 (Conv2D)            (None, 14, 14, 128)       73856     \n",
            "_________________________________________________________________\n",
            "max_pooling2d_1 (MaxPooling2 (None, 7, 7, 128)         0         \n",
            "_________________________________________________________________\n",
            "flatten_1 (Flatten)          (None, 6272)              0         \n",
            "_________________________________________________________________\n",
            "dense_2 (Dense)              (None, 128)               802944    \n",
            "_________________________________________________________________\n",
            "dropout_1 (Dropout)          (None, 128)               0         \n",
            "_________________________________________________________________\n",
            "dense_3 (Dense)              (None, 64)                8256      \n",
            "_________________________________________________________________\n",
            "dropout_2 (Dropout)          (None, 64)                0         \n",
            "_________________________________________________________________\n",
            "dense_4 (Dense)              (None, 10)                650       \n",
            "=================================================================\n",
            "Total params: 909,002\n",
            "Trainable params: 909,002\n",
            "Non-trainable params: 0\n",
            "_________________________________________________________________\n"
          ],
          "name": "stdout"
        }
      ]
    },
    {
      "cell_type": "code",
      "metadata": {
        "id": "ul1np1H23GMj"
      },
      "source": [
        "model.compile(\n",
        "    #optimizer = 'Adam',#оптимизатор, комбинирующий два вида градиентного спуска(SGD, RMSProp, NAdam, Adamax, Adadelta)\n",
        "\n",
        "    optimizer = tf.keras.optimizers.Adam(1e-4), #оптимизатор, комбинирующий два вида градиентного спуска(SGD, RMSProp, NAdam, Adamax, Adadelta)\n",
        "\n",
        "    loss = 'categorical_crossentropy',#для регрессии: mse,mae,mape; для классификации: если классов слишком много > 200 - sparse_categorical_crossentropy, logloss\n",
        "    metrics = 'accuracy' # 'mse', 'mae\n",
        ")"
      ],
      "execution_count": null,
      "outputs": []
    },
    {
      "cell_type": "code",
      "metadata": {
        "colab": {
          "base_uri": "https://localhost:8080/"
        },
        "id": "127Fxu1s3JUP",
        "outputId": "785d9d0f-274e-43d4-d08d-50d29527f786"
      },
      "source": [
        "model.fit(\n",
        "    x=x_train2,\n",
        "    y=y_train_ohe,\n",
        "    batch_size=64,\n",
        "    epochs=30,\n",
        "    verbose=1,\n",
        "    callbacks=None, #коллбеки, позволяют управлять поведением модели на каждой эпохе\n",
        "    validation_split=0.0, #\n",
        "    validation_data=(x_val2, y_val_ohe),#передача валидационной выборке\n",
        "    shuffle=True,#перемешивать ли выборку или нет\n",
        "    class_weight=None, \n",
        "    sample_weight=None,\n",
        "    initial_epoch=0,\n",
        "    steps_per_epoch=None,\n",
        "    validation_steps=None,\n",
        "    validation_batch_size=None,\n",
        "    validation_freq=1,\n",
        "    max_queue_size=10,\n",
        "    workers=-1,\n",
        "    use_multiprocessing=True,\n",
        ")"
      ],
      "execution_count": null,
      "outputs": [
        {
          "output_type": "stream",
          "text": [
            "Epoch 1/30\n",
            "187/187 [==============================] - 53s 281ms/step - loss: 2.0539 - accuracy: 0.2630 - val_loss: 0.9585 - val_accuracy: 0.6899\n",
            "Epoch 2/30\n",
            "187/187 [==============================] - 52s 279ms/step - loss: 1.1503 - accuracy: 0.5922 - val_loss: 0.7031 - val_accuracy: 0.7467\n",
            "Epoch 3/30\n",
            "187/187 [==============================] - 52s 280ms/step - loss: 0.9492 - accuracy: 0.6698 - val_loss: 0.6207 - val_accuracy: 0.7721\n",
            "Epoch 4/30\n",
            "187/187 [==============================] - 52s 280ms/step - loss: 0.8592 - accuracy: 0.6957 - val_loss: 0.5711 - val_accuracy: 0.7844\n",
            "Epoch 5/30\n",
            "187/187 [==============================] - 52s 279ms/step - loss: 0.7796 - accuracy: 0.7258 - val_loss: 0.5386 - val_accuracy: 0.8046\n",
            "Epoch 6/30\n",
            "187/187 [==============================] - 52s 279ms/step - loss: 0.7217 - accuracy: 0.7389 - val_loss: 0.5061 - val_accuracy: 0.8103\n",
            "Epoch 7/30\n",
            "187/187 [==============================] - 53s 281ms/step - loss: 0.6844 - accuracy: 0.7622 - val_loss: 0.4980 - val_accuracy: 0.8101\n",
            "Epoch 8/30\n",
            "187/187 [==============================] - 52s 278ms/step - loss: 0.6617 - accuracy: 0.7658 - val_loss: 0.4695 - val_accuracy: 0.8251\n",
            "Epoch 9/30\n",
            "187/187 [==============================] - 52s 279ms/step - loss: 0.6122 - accuracy: 0.7808 - val_loss: 0.4446 - val_accuracy: 0.8390\n",
            "Epoch 10/30\n",
            "187/187 [==============================] - 52s 279ms/step - loss: 0.6063 - accuracy: 0.7887 - val_loss: 0.4396 - val_accuracy: 0.8390\n",
            "Epoch 11/30\n",
            "187/187 [==============================] - 52s 279ms/step - loss: 0.5775 - accuracy: 0.7940 - val_loss: 0.4206 - val_accuracy: 0.8447\n",
            "Epoch 12/30\n",
            "187/187 [==============================] - 52s 278ms/step - loss: 0.5552 - accuracy: 0.8070 - val_loss: 0.4099 - val_accuracy: 0.8507\n",
            "Epoch 13/30\n",
            "187/187 [==============================] - 52s 278ms/step - loss: 0.5478 - accuracy: 0.8041 - val_loss: 0.4095 - val_accuracy: 0.8488\n",
            "Epoch 14/30\n",
            "187/187 [==============================] - 52s 279ms/step - loss: 0.5170 - accuracy: 0.8227 - val_loss: 0.3973 - val_accuracy: 0.8556\n",
            "Epoch 15/30\n",
            "187/187 [==============================] - 52s 278ms/step - loss: 0.5098 - accuracy: 0.8222 - val_loss: 0.3913 - val_accuracy: 0.8595\n",
            "Epoch 16/30\n",
            "187/187 [==============================] - 52s 278ms/step - loss: 0.5061 - accuracy: 0.8226 - val_loss: 0.3715 - val_accuracy: 0.8605\n",
            "Epoch 17/30\n",
            "187/187 [==============================] - 52s 278ms/step - loss: 0.4657 - accuracy: 0.8369 - val_loss: 0.3661 - val_accuracy: 0.8638\n",
            "Epoch 18/30\n",
            "187/187 [==============================] - 52s 278ms/step - loss: 0.4685 - accuracy: 0.8338 - val_loss: 0.3597 - val_accuracy: 0.8668\n",
            "Epoch 19/30\n",
            "187/187 [==============================] - 52s 277ms/step - loss: 0.4578 - accuracy: 0.8402 - val_loss: 0.3587 - val_accuracy: 0.8678\n",
            "Epoch 20/30\n",
            "187/187 [==============================] - 52s 276ms/step - loss: 0.4411 - accuracy: 0.8477 - val_loss: 0.3473 - val_accuracy: 0.8725\n",
            "Epoch 21/30\n",
            "187/187 [==============================] - 52s 278ms/step - loss: 0.4252 - accuracy: 0.8472 - val_loss: 0.3470 - val_accuracy: 0.8703\n",
            "Epoch 22/30\n",
            "187/187 [==============================] - 52s 277ms/step - loss: 0.4214 - accuracy: 0.8541 - val_loss: 0.3400 - val_accuracy: 0.8734\n",
            "Epoch 23/30\n",
            "187/187 [==============================] - 52s 277ms/step - loss: 0.4325 - accuracy: 0.8547 - val_loss: 0.3338 - val_accuracy: 0.8777\n",
            "Epoch 24/30\n",
            "187/187 [==============================] - 52s 276ms/step - loss: 0.4292 - accuracy: 0.8514 - val_loss: 0.3352 - val_accuracy: 0.8768\n",
            "Epoch 25/30\n",
            "187/187 [==============================] - 52s 278ms/step - loss: 0.4223 - accuracy: 0.8493 - val_loss: 0.3263 - val_accuracy: 0.8783\n",
            "Epoch 26/30\n",
            "187/187 [==============================] - 52s 277ms/step - loss: 0.3895 - accuracy: 0.8656 - val_loss: 0.3212 - val_accuracy: 0.8824\n",
            "Epoch 27/30\n",
            "187/187 [==============================] - 52s 276ms/step - loss: 0.3935 - accuracy: 0.8653 - val_loss: 0.3188 - val_accuracy: 0.8817\n",
            "Epoch 28/30\n",
            "187/187 [==============================] - 52s 278ms/step - loss: 0.3682 - accuracy: 0.8670 - val_loss: 0.3162 - val_accuracy: 0.8832\n",
            "Epoch 29/30\n",
            "187/187 [==============================] - 52s 277ms/step - loss: 0.3724 - accuracy: 0.8721 - val_loss: 0.3211 - val_accuracy: 0.8830\n",
            "Epoch 30/30\n",
            "187/187 [==============================] - 52s 276ms/step - loss: 0.3782 - accuracy: 0.8688 - val_loss: 0.3213 - val_accuracy: 0.8832\n"
          ],
          "name": "stdout"
        },
        {
          "output_type": "execute_result",
          "data": {
            "text/plain": [
              "<tensorflow.python.keras.callbacks.History at 0x7f0eac263d90>"
            ]
          },
          "metadata": {
            "tags": []
          },
          "execution_count": 54
        }
      ]
    },
    {
      "cell_type": "code",
      "metadata": {
        "colab": {
          "base_uri": "https://localhost:8080/"
        },
        "id": "1vL9yR803NNn",
        "outputId": "f7abdd43-bc22-475e-9c64-06a529aa583f"
      },
      "source": [
        "score = model.evaluate(x_val2, y_val_ohe)\n",
        "\n",
        "print('Loss: {:.4f}'.format(score[0]))\n",
        "print('Accuracy: {:.4f}'.format(score[1]))"
      ],
      "execution_count": null,
      "outputs": [
        {
          "output_type": "stream",
          "text": [
            "160/160 [==============================] - 6s 36ms/step - loss: 0.3213 - accuracy: 0.8832\n",
            "Loss: 0.3213\n",
            "Accuracy: 0.8832\n"
          ],
          "name": "stdout"
        }
      ]
    },
    {
      "cell_type": "code",
      "metadata": {
        "id": "niJOC4GB-fV-"
      },
      "source": [
        "predict_data = pd.DataFrame({\n",
        "    'Id': test_id,\n",
        "    'Label': np.argmax(model.predict(x_test2), axis=1)\n",
        "})\n",
        "predict_data.to_csv('submission2.csv', index=False)"
      ],
      "execution_count": null,
      "outputs": []
    },
    {
      "cell_type": "code",
      "metadata": {
        "colab": {
          "base_uri": "https://localhost:8080/",
          "height": 195
        },
        "id": "oAAIl-T8-g-0",
        "outputId": "a6ab54c6-8de5-47dd-8c67-beaaad78d833"
      },
      "source": [
        "predict_data.head()"
      ],
      "execution_count": null,
      "outputs": [
        {
          "output_type": "execute_result",
          "data": {
            "text/html": [
              "<div>\n",
              "<style scoped>\n",
              "    .dataframe tbody tr th:only-of-type {\n",
              "        vertical-align: middle;\n",
              "    }\n",
              "\n",
              "    .dataframe tbody tr th {\n",
              "        vertical-align: top;\n",
              "    }\n",
              "\n",
              "    .dataframe thead th {\n",
              "        text-align: right;\n",
              "    }\n",
              "</style>\n",
              "<table border=\"1\" class=\"dataframe\">\n",
              "  <thead>\n",
              "    <tr style=\"text-align: right;\">\n",
              "      <th></th>\n",
              "      <th>Id</th>\n",
              "      <th>Label</th>\n",
              "    </tr>\n",
              "  </thead>\n",
              "  <tbody>\n",
              "    <tr>\n",
              "      <th>0</th>\n",
              "      <td>0</td>\n",
              "      <td>0</td>\n",
              "    </tr>\n",
              "    <tr>\n",
              "      <th>1</th>\n",
              "      <td>1</td>\n",
              "      <td>1</td>\n",
              "    </tr>\n",
              "    <tr>\n",
              "      <th>2</th>\n",
              "      <td>2</td>\n",
              "      <td>2</td>\n",
              "    </tr>\n",
              "    <tr>\n",
              "      <th>3</th>\n",
              "      <td>3</td>\n",
              "      <td>6</td>\n",
              "    </tr>\n",
              "    <tr>\n",
              "      <th>4</th>\n",
              "      <td>4</td>\n",
              "      <td>3</td>\n",
              "    </tr>\n",
              "  </tbody>\n",
              "</table>\n",
              "</div>"
            ],
            "text/plain": [
              "   Id  Label\n",
              "0   0      0\n",
              "1   1      1\n",
              "2   2      2\n",
              "3   3      6\n",
              "4   4      3"
            ]
          },
          "metadata": {
            "tags": []
          },
          "execution_count": 57
        }
      ]
    },
    {
      "cell_type": "code",
      "metadata": {
        "id": "TribVbWv-pXJ"
      },
      "source": [
        ""
      ],
      "execution_count": null,
      "outputs": []
    }
  ]
}